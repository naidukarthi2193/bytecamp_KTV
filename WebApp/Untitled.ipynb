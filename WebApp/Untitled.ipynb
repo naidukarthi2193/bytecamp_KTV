{
 "cells": [
  {
   "cell_type": "code",
   "execution_count": 15,
   "metadata": {},
   "outputs": [],
   "source": [
    "import pandas as pd\n",
    "import numpy as np\n",
    "import os"
   ]
  },
  {
   "cell_type": "code",
   "execution_count": 16,
   "metadata": {},
   "outputs": [],
   "source": [
    "file1 = pd.read_csv(\"static/year_season.csv\")"
   ]
  },
  {
   "cell_type": "code",
   "execution_count": 17,
   "metadata": {},
   "outputs": [],
   "source": [
    "rice_count = file1.loc[file1['Crop'] == 'Rice']\n",
    "cotton_count = file1.loc[file1['Crop']== 'Cotton(lint)']\n",
    "sugar_count = file1.loc[file1['Crop'] == 'Sugarcane']"
   ]
  },
  {
   "cell_type": "code",
   "execution_count": 18,
   "metadata": {},
   "outputs": [],
   "source": [
    "total = pd.concat([rice_count, cotton_count,sugar_count])"
   ]
  },
  {
   "cell_type": "code",
   "execution_count": 19,
   "metadata": {},
   "outputs": [],
   "source": [
    "total = total.drop(['Crop_Year'], axis=1)"
   ]
  },
  {
   "cell_type": "code",
   "execution_count": 20,
   "metadata": {},
   "outputs": [
    {
     "data": {
      "text/html": [
       "<div>\n",
       "<style scoped>\n",
       "    .dataframe tbody tr th:only-of-type {\n",
       "        vertical-align: middle;\n",
       "    }\n",
       "\n",
       "    .dataframe tbody tr th {\n",
       "        vertical-align: top;\n",
       "    }\n",
       "\n",
       "    .dataframe thead th {\n",
       "        text-align: right;\n",
       "    }\n",
       "</style>\n",
       "<table border=\"1\" class=\"dataframe\">\n",
       "  <thead>\n",
       "    <tr style=\"text-align: right;\">\n",
       "      <th></th>\n",
       "      <th>index</th>\n",
       "      <th>Rabi</th>\n",
       "      <th>Crop</th>\n",
       "      <th>Area</th>\n",
       "      <th>Production</th>\n",
       "    </tr>\n",
       "  </thead>\n",
       "  <tbody>\n",
       "    <tr>\n",
       "      <th>0</th>\n",
       "      <td>13</td>\n",
       "      <td>Rabi</td>\n",
       "      <td>Rice</td>\n",
       "      <td>35600.0</td>\n",
       "      <td>75400.0</td>\n",
       "    </tr>\n",
       "    <tr>\n",
       "      <th>1</th>\n",
       "      <td>25</td>\n",
       "      <td>Rabi</td>\n",
       "      <td>Rice</td>\n",
       "      <td>18000.0</td>\n",
       "      <td>37300.0</td>\n",
       "    </tr>\n",
       "    <tr>\n",
       "      <th>2</th>\n",
       "      <td>38</td>\n",
       "      <td>Rabi</td>\n",
       "      <td>Rice</td>\n",
       "      <td>42300.0</td>\n",
       "      <td>84400.0</td>\n",
       "    </tr>\n",
       "    <tr>\n",
       "      <th>3</th>\n",
       "      <td>47</td>\n",
       "      <td>Rabi</td>\n",
       "      <td>Rice</td>\n",
       "      <td>57400.0</td>\n",
       "      <td>137400.0</td>\n",
       "    </tr>\n",
       "    <tr>\n",
       "      <th>4</th>\n",
       "      <td>58</td>\n",
       "      <td>Rabi</td>\n",
       "      <td>Rice</td>\n",
       "      <td>214100.0</td>\n",
       "      <td>429300.0</td>\n",
       "    </tr>\n",
       "    <tr>\n",
       "      <th>...</th>\n",
       "      <td>...</td>\n",
       "      <td>...</td>\n",
       "      <td>...</td>\n",
       "      <td>...</td>\n",
       "      <td>...</td>\n",
       "    </tr>\n",
       "    <tr>\n",
       "      <th>27538</th>\n",
       "      <td>245974</td>\n",
       "      <td>Rabi</td>\n",
       "      <td>Sugarcane</td>\n",
       "      <td>10.0</td>\n",
       "      <td>521.0</td>\n",
       "    </tr>\n",
       "    <tr>\n",
       "      <th>27539</th>\n",
       "      <td>245996</td>\n",
       "      <td>Rabi</td>\n",
       "      <td>Sugarcane</td>\n",
       "      <td>81.0</td>\n",
       "      <td>4168.8</td>\n",
       "    </tr>\n",
       "    <tr>\n",
       "      <th>27540</th>\n",
       "      <td>246016</td>\n",
       "      <td>Rabi</td>\n",
       "      <td>Sugarcane</td>\n",
       "      <td>7.0</td>\n",
       "      <td>289.3</td>\n",
       "    </tr>\n",
       "    <tr>\n",
       "      <th>27541</th>\n",
       "      <td>246031</td>\n",
       "      <td>Rabi</td>\n",
       "      <td>Sugarcane</td>\n",
       "      <td>1.0</td>\n",
       "      <td>52.0</td>\n",
       "    </tr>\n",
       "    <tr>\n",
       "      <th>27542</th>\n",
       "      <td>246054</td>\n",
       "      <td>Rabi</td>\n",
       "      <td>Sugarcane</td>\n",
       "      <td>17.0</td>\n",
       "      <td>1173.9</td>\n",
       "    </tr>\n",
       "  </tbody>\n",
       "</table>\n",
       "<p>27543 rows × 5 columns</p>\n",
       "</div>"
      ],
      "text/plain": [
       "        index    Rabi            Crop      Area  Production\n",
       "0          13    Rabi            Rice   35600.0     75400.0\n",
       "1          25    Rabi            Rice   18000.0     37300.0\n",
       "2          38    Rabi            Rice   42300.0     84400.0\n",
       "3          47    Rabi            Rice   57400.0    137400.0\n",
       "4          58    Rabi            Rice  214100.0    429300.0\n",
       "...       ...          ...        ...       ...         ...\n",
       "27538  245974  Rabi         Sugarcane      10.0       521.0\n",
       "27539  245996  Rabi         Sugarcane      81.0      4168.8\n",
       "27540  246016  Rabi         Sugarcane       7.0       289.3\n",
       "27541  246031  Rabi         Sugarcane       1.0        52.0\n",
       "27542  246054  Rabi         Sugarcane      17.0      1173.9\n",
       "\n",
       "[27543 rows x 5 columns]"
      ]
     },
     "execution_count": 20,
     "metadata": {},
     "output_type": "execute_result"
    }
   ],
   "source": [
    "total.reset_index()"
   ]
  },
  {
   "cell_type": "code",
   "execution_count": 21,
   "metadata": {},
   "outputs": [
    {
     "data": {
      "text/html": [
       "<div>\n",
       "<style scoped>\n",
       "    .dataframe tbody tr th:only-of-type {\n",
       "        vertical-align: middle;\n",
       "    }\n",
       "\n",
       "    .dataframe tbody tr th {\n",
       "        vertical-align: top;\n",
       "    }\n",
       "\n",
       "    .dataframe thead th {\n",
       "        text-align: right;\n",
       "    }\n",
       "</style>\n",
       "<table border=\"1\" class=\"dataframe\">\n",
       "  <thead>\n",
       "    <tr style=\"text-align: right;\">\n",
       "      <th></th>\n",
       "      <th>Rabi</th>\n",
       "      <th>Crop</th>\n",
       "      <th>Area</th>\n",
       "      <th>Production</th>\n",
       "    </tr>\n",
       "  </thead>\n",
       "  <tbody>\n",
       "    <tr>\n",
       "      <th>13</th>\n",
       "      <td>Rabi</td>\n",
       "      <td>Rice</td>\n",
       "      <td>35600.0</td>\n",
       "      <td>75400.0</td>\n",
       "    </tr>\n",
       "    <tr>\n",
       "      <th>25</th>\n",
       "      <td>Rabi</td>\n",
       "      <td>Rice</td>\n",
       "      <td>18000.0</td>\n",
       "      <td>37300.0</td>\n",
       "    </tr>\n",
       "    <tr>\n",
       "      <th>38</th>\n",
       "      <td>Rabi</td>\n",
       "      <td>Rice</td>\n",
       "      <td>42300.0</td>\n",
       "      <td>84400.0</td>\n",
       "    </tr>\n",
       "    <tr>\n",
       "      <th>47</th>\n",
       "      <td>Rabi</td>\n",
       "      <td>Rice</td>\n",
       "      <td>57400.0</td>\n",
       "      <td>137400.0</td>\n",
       "    </tr>\n",
       "    <tr>\n",
       "      <th>58</th>\n",
       "      <td>Rabi</td>\n",
       "      <td>Rice</td>\n",
       "      <td>214100.0</td>\n",
       "      <td>429300.0</td>\n",
       "    </tr>\n",
       "    <tr>\n",
       "      <th>...</th>\n",
       "      <td>...</td>\n",
       "      <td>...</td>\n",
       "      <td>...</td>\n",
       "      <td>...</td>\n",
       "    </tr>\n",
       "    <tr>\n",
       "      <th>245974</th>\n",
       "      <td>Rabi</td>\n",
       "      <td>Sugarcane</td>\n",
       "      <td>10.0</td>\n",
       "      <td>521.0</td>\n",
       "    </tr>\n",
       "    <tr>\n",
       "      <th>245996</th>\n",
       "      <td>Rabi</td>\n",
       "      <td>Sugarcane</td>\n",
       "      <td>81.0</td>\n",
       "      <td>4168.8</td>\n",
       "    </tr>\n",
       "    <tr>\n",
       "      <th>246016</th>\n",
       "      <td>Rabi</td>\n",
       "      <td>Sugarcane</td>\n",
       "      <td>7.0</td>\n",
       "      <td>289.3</td>\n",
       "    </tr>\n",
       "    <tr>\n",
       "      <th>246031</th>\n",
       "      <td>Rabi</td>\n",
       "      <td>Sugarcane</td>\n",
       "      <td>1.0</td>\n",
       "      <td>52.0</td>\n",
       "    </tr>\n",
       "    <tr>\n",
       "      <th>246054</th>\n",
       "      <td>Rabi</td>\n",
       "      <td>Sugarcane</td>\n",
       "      <td>17.0</td>\n",
       "      <td>1173.9</td>\n",
       "    </tr>\n",
       "  </tbody>\n",
       "</table>\n",
       "<p>27543 rows × 4 columns</p>\n",
       "</div>"
      ],
      "text/plain": [
       "          Rabi            Crop      Area  Production\n",
       "13        Rabi            Rice   35600.0     75400.0\n",
       "25        Rabi            Rice   18000.0     37300.0\n",
       "38        Rabi            Rice   42300.0     84400.0\n",
       "47        Rabi            Rice   57400.0    137400.0\n",
       "58        Rabi            Rice  214100.0    429300.0\n",
       "...             ...        ...       ...         ...\n",
       "245974  Rabi         Sugarcane      10.0       521.0\n",
       "245996  Rabi         Sugarcane      81.0      4168.8\n",
       "246016  Rabi         Sugarcane       7.0       289.3\n",
       "246031  Rabi         Sugarcane       1.0        52.0\n",
       "246054  Rabi         Sugarcane      17.0      1173.9\n",
       "\n",
       "[27543 rows x 4 columns]"
      ]
     },
     "execution_count": 21,
     "metadata": {},
     "output_type": "execute_result"
    }
   ],
   "source": [
    "total "
   ]
  },
  {
   "cell_type": "code",
   "execution_count": 22,
   "metadata": {},
   "outputs": [],
   "source": [
    "import keras\n",
    "import keras.backend as kb\n",
    "import tensorflow as tf\n",
    "\n",
    "model = keras.Sequential([\n",
    "    keras.layers.Dense(32,  input_shape=[4]),\n",
    "    keras.layers.Dense(32, activation=tf.nn.tanh),\n",
    "    keras.layers.Dense(32, activation=tf.nn.relu),\n",
    "    keras.layers.Dense(1 , activation = tf.nn.softmax)\n",
    "  ])"
   ]
  },
  {
   "cell_type": "code",
   "execution_count": 23,
   "metadata": {},
   "outputs": [],
   "source": [
    "optimizer = tf.keras.optimizers.RMSprop(0.0099)\n",
    "model.compile(loss='mean_squared_error',optimizer=optimizer)"
   ]
  },
  {
   "cell_type": "code",
   "execution_count": 24,
   "metadata": {},
   "outputs": [],
   "source": [
    "from sklearn.preprocessing import OneHotEncoder"
   ]
  },
  {
   "cell_type": "code",
   "execution_count": 25,
   "metadata": {},
   "outputs": [],
   "source": [
    "encoder = OneHotEncoder(handle_unknown='ignore')"
   ]
  },
  {
   "cell_type": "code",
   "execution_count": 26,
   "metadata": {},
   "outputs": [],
   "source": [
    "X = total['Crop']"
   ]
  },
  {
   "cell_type": "code",
   "execution_count": 27,
   "metadata": {},
   "outputs": [],
   "source": [
    "final = pd.get_dummies(total['Crop'])"
   ]
  },
  {
   "cell_type": "code",
   "execution_count": 28,
   "metadata": {},
   "outputs": [],
   "source": [
    "final['Area'] = total.Area"
   ]
  },
  {
   "cell_type": "code",
   "execution_count": 66,
   "metadata": {},
   "outputs": [
    {
     "name": "stdout",
     "output_type": "stream",
     "text": [
      "Epoch 1/1\n",
      "27543/27543 [==============================] - 2s 78us/step - loss: nan\n"
     ]
    },
    {
     "data": {
      "text/plain": [
       "<keras.callbacks.callbacks.History at 0x214844b1cc8>"
      ]
     },
     "execution_count": 66,
     "metadata": {},
     "output_type": "execute_result"
    }
   ],
   "source": [
    "model.fit(final , total['Production'], epochs=1)"
   ]
  },
  {
   "cell_type": "code",
   "execution_count": 34,
   "metadata": {},
   "outputs": [],
   "source": [
    "a = total.Area"
   ]
  },
  {
   "cell_type": "code",
   "execution_count": 35,
   "metadata": {},
   "outputs": [],
   "source": [
    "b = total.Production"
   ]
  },
  {
   "cell_type": "code",
   "execution_count": 36,
   "metadata": {},
   "outputs": [
    {
     "data": {
      "text/plain": [
       "[<matplotlib.lines.Line2D at 0x27dc2ca6648>]"
      ]
     },
     "execution_count": 36,
     "metadata": {},
     "output_type": "execute_result"
    },
    {
     "data": {
      "image/png": "[encoded data removed]",
      "text/plain": [
       "<Figure size 432x288 with 1 Axes>"
      ]
     },
     "metadata": {
      "needs_background": "light"
     },
     "output_type": "display_data"
    }
   ],
   "source": [
    "plt.plot(a,b)"
   ]
  },
  {
   "cell_type": "code",
   "execution_count": 37,
   "metadata": {},
   "outputs": [],
   "source": [
    "from sklearn.ensemble import RandomForestRegressor"
   ]
  },
  {
   "cell_type": "code",
   "execution_count": 38,
   "metadata": {},
   "outputs": [],
   "source": [
    "model_rf = RandomForestRegressor(n_estimators=500, oob_score=True, random_state=100)"
   ]
  },
  {
   "cell_type": "code",
   "execution_count": 48,
   "metadata": {},
   "outputs": [
    {
     "data": {
      "text/plain": [
       "RandomForestRegressor(bootstrap=True, ccp_alpha=0.0, criterion='mse',\n",
       "                      max_depth=None, max_features='auto', max_leaf_nodes=None,\n",
       "                      max_samples=None, min_impurity_decrease=0.0,\n",
       "                      min_impurity_split=None, min_samples_leaf=1,\n",
       "                      min_samples_split=2, min_weight_fraction_leaf=0.0,\n",
       "                      n_estimators=500, n_jobs=None, oob_score=True,\n",
       "                      random_state=100, verbose=0, warm_start=False)"
      ]
     },
     "execution_count": 48,
     "metadata": {},
     "output_type": "execute_result"
    }
   ],
   "source": [
    "model_rf.fit(final , total['Production']) "
   ]
  },
  {
   "cell_type": "code",
   "execution_count": 50,
   "metadata": {},
   "outputs": [
    {
     "data": {
      "text/plain": [
       "0.963166802198718"
      ]
     },
     "execution_count": 50,
     "metadata": {},
     "output_type": "execute_result"
    }
   ],
   "source": [
    "model_rf.score(final, total['Production'])"
   ]
  },
  {
   "cell_type": "code",
   "execution_count": 45,
   "metadata": {},
   "outputs": [],
   "source": [
    "total[\"Production\"].fillna(total[\"Production\"].mean(), inplace=True)"
   ]
  },
  {
   "cell_type": "code",
   "execution_count": 57,
   "metadata": {},
   "outputs": [
    {
     "data": {
      "text/plain": [
       "array([2972274.544])"
      ]
     },
     "execution_count": 57,
     "metadata": {},
     "output_type": "execute_result"
    }
   ],
   "source": [
    "model_rf.predict([[0,0,1,45375]])"
   ]
  },
  {
   "cell_type": "code",
   "execution_count": 58,
   "metadata": {},
   "outputs": [
    {
     "data": {
      "text/plain": [
       "array([118109.49236])"
      ]
     },
     "execution_count": 58,
     "metadata": {},
     "output_type": "execute_result"
    }
   ],
   "source": [
    "model_rf.predict([[0,1,0,45375]])"
   ]
  },
  {
   "cell_type": "code",
   "execution_count": 59,
   "metadata": {},
   "outputs": [
    {
     "data": {
      "text/plain": [
       "array([48260.62684])"
      ]
     },
     "execution_count": 59,
     "metadata": {},
     "output_type": "execute_result"
    }
   ],
   "source": [
    "model_rf.predict([[1,0,0,45375]])"
   ]
  },
  {
   "cell_type": "code",
   "execution_count": 83,
   "metadata": {},
   "outputs": [],
   "source": [
    "rice=list()\n",
    "sugar=list()\n",
    "cotton = list()\n",
    "for x in range(10000,10500):\n",
    "    rice.append(model_rf.predict([[1,0,0,x]])[0])\n",
    "    sugar.append(model_rf.predict([[0,1,0,x]])[0])\n",
    "    cotton.append(model_rf.predict([[0,0,1,x]])[0])"
   ]
  },
  {
   "cell_type": "code",
   "execution_count": 84,
   "metadata": {},
   "outputs": [],
   "source": [
    "num = list()\n",
    "for x in range(10000,10500):\n",
    "    num.append(x)\n",
    "    "
   ]
  },
  {
   "cell_type": "code",
   "execution_count": 85,
   "metadata": {},
   "outputs": [],
   "source": [
    "dataframe = { \"Rice\" : rice , \"Sugarcane\" : sugar , \"Cotton\" : cotton}"
   ]
  },
  {
   "cell_type": "code",
   "execution_count": 86,
   "metadata": {},
   "outputs": [],
   "source": [
    "dataframe = pd.DataFrame(dataframe)"
   ]
  },
  {
   "cell_type": "code",
   "execution_count": 87,
   "metadata": {},
   "outputs": [],
   "source": [
    "dataframe[\"Area\"] = num"
   ]
  },
  {
   "cell_type": "code",
   "execution_count": 91,
   "metadata": {},
   "outputs": [
    {
     "data": {
      "text/plain": [
       "[<matplotlib.lines.Line2D at 0x27ebfa749c8>]"
      ]
     },
     "execution_count": 91,
     "metadata": {},
     "output_type": "execute_result"
    },
    {
     "data": {
      "image/png": "[encoded data removed]",
      "text/plain": [
       "<Figure size 432x288 with 1 Axes>"
      ]
     },
     "metadata": {
      "needs_background": "light"
     },
     "output_type": "display_data"
    }
   ],
   "source": [
    "plt.plot(num,dataframe.Cotton)"
   ]
  },
  {
   "cell_type": "code",
   "execution_count": 92,
   "metadata": {
    "collapsed": true
   },
   "outputs": [],
   "source": [
    "dataframe.to_csv(\"static/produce_chart.csv\")"
   ]
  },
  {
   "cell_type": "code",
   "execution_count": 113,
   "metadata": {},
   "outputs": [],
   "source": [
    "rain_df = pd.read_csv(\"static/rainfall.csv\")"
   ]
  },
  {
   "cell_type": "code",
   "execution_count": 114,
   "metadata": {},
   "outputs": [],
   "source": [
    "rain_maha = rain_df.loc[rain_df['STATE/UT'] == 'MAHARASHTRA']"
   ]
  },
  {
   "cell_type": "code",
   "execution_count": 116,
   "metadata": {},
   "outputs": [],
   "source": [
    "rain_maha =rain_maha.drop(['JAN','FEB','MAR','APR','MAY','JUN','JUL','AUG','SEP','OCT','NOV','DEC'], axis =1)"
   ]
  },
  {
   "cell_type": "code",
   "execution_count": 117,
   "metadata": {},
   "outputs": [
    {
     "data": {
      "text/html": [
       "<div>\n",
       "<style scoped>\n",
       "    .dataframe tbody tr th:only-of-type {\n",
       "        vertical-align: middle;\n",
       "    }\n",
       "\n",
       "    .dataframe tbody tr th {\n",
       "        vertical-align: top;\n",
       "    }\n",
       "\n",
       "    .dataframe thead th {\n",
       "        text-align: right;\n",
       "    }\n",
       "</style>\n",
       "<table border=\"1\" class=\"dataframe\">\n",
       "  <thead>\n",
       "    <tr style=\"text-align: right;\">\n",
       "      <th></th>\n",
       "      <th>STATE/UT</th>\n",
       "      <th>DISTRICT</th>\n",
       "      <th>ANNUAL</th>\n",
       "      <th>JAN+FEB</th>\n",
       "      <th>MAM</th>\n",
       "      <th>JJAS</th>\n",
       "      <th>OND</th>\n",
       "    </tr>\n",
       "  </thead>\n",
       "  <tbody>\n",
       "    <tr>\n",
       "      <th>482</th>\n",
       "      <td>MAHARASHTRA</td>\n",
       "      <td>MUMBAI CITY</td>\n",
       "      <td>2257.5</td>\n",
       "      <td>2.0</td>\n",
       "      <td>19.4</td>\n",
       "      <td>2142.4</td>\n",
       "      <td>93.7</td>\n",
       "    </tr>\n",
       "    <tr>\n",
       "      <th>483</th>\n",
       "      <td>MAHARASHTRA</td>\n",
       "      <td>RAIGAD</td>\n",
       "      <td>3278.9</td>\n",
       "      <td>0.4</td>\n",
       "      <td>22.2</td>\n",
       "      <td>3117.7</td>\n",
       "      <td>138.6</td>\n",
       "    </tr>\n",
       "    <tr>\n",
       "      <th>484</th>\n",
       "      <td>MAHARASHTRA</td>\n",
       "      <td>RATNAGIRI</td>\n",
       "      <td>3470.6</td>\n",
       "      <td>0.1</td>\n",
       "      <td>35.3</td>\n",
       "      <td>3261.5</td>\n",
       "      <td>173.7</td>\n",
       "    </tr>\n",
       "    <tr>\n",
       "      <th>485</th>\n",
       "      <td>MAHARASHTRA</td>\n",
       "      <td>THANE</td>\n",
       "      <td>2542.1</td>\n",
       "      <td>0.5</td>\n",
       "      <td>14.9</td>\n",
       "      <td>2428.3</td>\n",
       "      <td>98.4</td>\n",
       "    </tr>\n",
       "    <tr>\n",
       "      <th>486</th>\n",
       "      <td>MAHARASHTRA</td>\n",
       "      <td>SINDHUDURG</td>\n",
       "      <td>3269.2</td>\n",
       "      <td>0.4</td>\n",
       "      <td>63.6</td>\n",
       "      <td>3021.8</td>\n",
       "      <td>183.4</td>\n",
       "    </tr>\n",
       "    <tr>\n",
       "      <th>487</th>\n",
       "      <td>MAHARASHTRA</td>\n",
       "      <td>MUMBAI SUB</td>\n",
       "      <td>2257.5</td>\n",
       "      <td>2.0</td>\n",
       "      <td>19.4</td>\n",
       "      <td>2142.4</td>\n",
       "      <td>93.7</td>\n",
       "    </tr>\n",
       "    <tr>\n",
       "      <th>490</th>\n",
       "      <td>MAHARASHTRA</td>\n",
       "      <td>AHMEDNAGAR</td>\n",
       "      <td>573.2</td>\n",
       "      <td>1.9</td>\n",
       "      <td>29.9</td>\n",
       "      <td>437.6</td>\n",
       "      <td>103.8</td>\n",
       "    </tr>\n",
       "    <tr>\n",
       "      <th>491</th>\n",
       "      <td>MAHARASHTRA</td>\n",
       "      <td>DHULE</td>\n",
       "      <td>607.2</td>\n",
       "      <td>3.5</td>\n",
       "      <td>15.1</td>\n",
       "      <td>523.5</td>\n",
       "      <td>65.1</td>\n",
       "    </tr>\n",
       "    <tr>\n",
       "      <th>492</th>\n",
       "      <td>MAHARASHTRA</td>\n",
       "      <td>JALGAON</td>\n",
       "      <td>730.9</td>\n",
       "      <td>5.7</td>\n",
       "      <td>13.2</td>\n",
       "      <td>641.8</td>\n",
       "      <td>70.2</td>\n",
       "    </tr>\n",
       "    <tr>\n",
       "      <th>493</th>\n",
       "      <td>MAHARASHTRA</td>\n",
       "      <td>KOLHAPUR</td>\n",
       "      <td>1992.8</td>\n",
       "      <td>1.8</td>\n",
       "      <td>90.7</td>\n",
       "      <td>1737.6</td>\n",
       "      <td>162.7</td>\n",
       "    </tr>\n",
       "    <tr>\n",
       "      <th>494</th>\n",
       "      <td>MAHARASHTRA</td>\n",
       "      <td>NASHIK</td>\n",
       "      <td>1029.6</td>\n",
       "      <td>1.7</td>\n",
       "      <td>20.8</td>\n",
       "      <td>912.2</td>\n",
       "      <td>94.9</td>\n",
       "    </tr>\n",
       "    <tr>\n",
       "      <th>495</th>\n",
       "      <td>MAHARASHTRA</td>\n",
       "      <td>PUNE</td>\n",
       "      <td>1015.7</td>\n",
       "      <td>0.7</td>\n",
       "      <td>36.6</td>\n",
       "      <td>861.0</td>\n",
       "      <td>117.4</td>\n",
       "    </tr>\n",
       "    <tr>\n",
       "      <th>496</th>\n",
       "      <td>MAHARASHTRA</td>\n",
       "      <td>SANGLI</td>\n",
       "      <td>730.6</td>\n",
       "      <td>2.5</td>\n",
       "      <td>80.9</td>\n",
       "      <td>508.1</td>\n",
       "      <td>139.1</td>\n",
       "    </tr>\n",
       "    <tr>\n",
       "      <th>497</th>\n",
       "      <td>MAHARASHTRA</td>\n",
       "      <td>SATARA</td>\n",
       "      <td>912.5</td>\n",
       "      <td>1.4</td>\n",
       "      <td>53.5</td>\n",
       "      <td>723.8</td>\n",
       "      <td>133.8</td>\n",
       "    </tr>\n",
       "    <tr>\n",
       "      <th>498</th>\n",
       "      <td>MAHARASHTRA</td>\n",
       "      <td>SOLAPUR</td>\n",
       "      <td>646.5</td>\n",
       "      <td>4.2</td>\n",
       "      <td>42.4</td>\n",
       "      <td>474.2</td>\n",
       "      <td>125.7</td>\n",
       "    </tr>\n",
       "    <tr>\n",
       "      <th>499</th>\n",
       "      <td>MAHARASHTRA</td>\n",
       "      <td>NANDURBAR</td>\n",
       "      <td>890.7</td>\n",
       "      <td>1.0</td>\n",
       "      <td>11.1</td>\n",
       "      <td>828.4</td>\n",
       "      <td>50.2</td>\n",
       "    </tr>\n",
       "    <tr>\n",
       "      <th>500</th>\n",
       "      <td>MAHARASHTRA</td>\n",
       "      <td>AURANGABAD</td>\n",
       "      <td>716.2</td>\n",
       "      <td>4.1</td>\n",
       "      <td>23.0</td>\n",
       "      <td>594.2</td>\n",
       "      <td>94.9</td>\n",
       "    </tr>\n",
       "    <tr>\n",
       "      <th>501</th>\n",
       "      <td>MAHARASHTRA</td>\n",
       "      <td>BEED</td>\n",
       "      <td>708.4</td>\n",
       "      <td>4.5</td>\n",
       "      <td>30.5</td>\n",
       "      <td>569.4</td>\n",
       "      <td>104.0</td>\n",
       "    </tr>\n",
       "    <tr>\n",
       "      <th>502</th>\n",
       "      <td>MAHARASHTRA</td>\n",
       "      <td>NANDED</td>\n",
       "      <td>961.1</td>\n",
       "      <td>9.4</td>\n",
       "      <td>33.1</td>\n",
       "      <td>816.4</td>\n",
       "      <td>102.2</td>\n",
       "    </tr>\n",
       "    <tr>\n",
       "      <th>503</th>\n",
       "      <td>MAHARASHTRA</td>\n",
       "      <td>OSMANABAD</td>\n",
       "      <td>779.3</td>\n",
       "      <td>6.0</td>\n",
       "      <td>37.7</td>\n",
       "      <td>623.4</td>\n",
       "      <td>112.2</td>\n",
       "    </tr>\n",
       "    <tr>\n",
       "      <th>504</th>\n",
       "      <td>MAHARASHTRA</td>\n",
       "      <td>PARBHANI</td>\n",
       "      <td>897.0</td>\n",
       "      <td>8.7</td>\n",
       "      <td>29.8</td>\n",
       "      <td>757.2</td>\n",
       "      <td>101.3</td>\n",
       "    </tr>\n",
       "    <tr>\n",
       "      <th>505</th>\n",
       "      <td>MAHARASHTRA</td>\n",
       "      <td>LATUR</td>\n",
       "      <td>910.0</td>\n",
       "      <td>8.0</td>\n",
       "      <td>40.4</td>\n",
       "      <td>752.5</td>\n",
       "      <td>109.1</td>\n",
       "    </tr>\n",
       "    <tr>\n",
       "      <th>506</th>\n",
       "      <td>MAHARASHTRA</td>\n",
       "      <td>JALNA</td>\n",
       "      <td>729.7</td>\n",
       "      <td>5.2</td>\n",
       "      <td>24.7</td>\n",
       "      <td>606.4</td>\n",
       "      <td>93.4</td>\n",
       "    </tr>\n",
       "    <tr>\n",
       "      <th>507</th>\n",
       "      <td>MAHARASHTRA</td>\n",
       "      <td>HINGOLI</td>\n",
       "      <td>979.4</td>\n",
       "      <td>9.8</td>\n",
       "      <td>26.7</td>\n",
       "      <td>849.1</td>\n",
       "      <td>93.8</td>\n",
       "    </tr>\n",
       "    <tr>\n",
       "      <th>508</th>\n",
       "      <td>MAHARASHTRA</td>\n",
       "      <td>AKOLA</td>\n",
       "      <td>815.4</td>\n",
       "      <td>13.9</td>\n",
       "      <td>22.9</td>\n",
       "      <td>702.3</td>\n",
       "      <td>76.3</td>\n",
       "    </tr>\n",
       "    <tr>\n",
       "      <th>509</th>\n",
       "      <td>MAHARASHTRA</td>\n",
       "      <td>AMRAVATI</td>\n",
       "      <td>897.4</td>\n",
       "      <td>16.4</td>\n",
       "      <td>17.9</td>\n",
       "      <td>786.6</td>\n",
       "      <td>76.5</td>\n",
       "    </tr>\n",
       "    <tr>\n",
       "      <th>510</th>\n",
       "      <td>MAHARASHTRA</td>\n",
       "      <td>BHANDARA</td>\n",
       "      <td>1292.7</td>\n",
       "      <td>29.1</td>\n",
       "      <td>39.3</td>\n",
       "      <td>1137.2</td>\n",
       "      <td>87.1</td>\n",
       "    </tr>\n",
       "    <tr>\n",
       "      <th>511</th>\n",
       "      <td>MAHARASHTRA</td>\n",
       "      <td>BULDHANA</td>\n",
       "      <td>746.9</td>\n",
       "      <td>7.6</td>\n",
       "      <td>17.0</td>\n",
       "      <td>646.6</td>\n",
       "      <td>75.7</td>\n",
       "    </tr>\n",
       "    <tr>\n",
       "      <th>512</th>\n",
       "      <td>MAHARASHTRA</td>\n",
       "      <td>CHANDRAPUR</td>\n",
       "      <td>1272.0</td>\n",
       "      <td>20.3</td>\n",
       "      <td>37.0</td>\n",
       "      <td>1131.8</td>\n",
       "      <td>82.9</td>\n",
       "    </tr>\n",
       "    <tr>\n",
       "      <th>513</th>\n",
       "      <td>MAHARASHTRA</td>\n",
       "      <td>NAGPUR</td>\n",
       "      <td>1068.4</td>\n",
       "      <td>24.6</td>\n",
       "      <td>36.6</td>\n",
       "      <td>923.9</td>\n",
       "      <td>83.3</td>\n",
       "    </tr>\n",
       "    <tr>\n",
       "      <th>514</th>\n",
       "      <td>MAHARASHTRA</td>\n",
       "      <td>YAVATMAL</td>\n",
       "      <td>982.8</td>\n",
       "      <td>13.2</td>\n",
       "      <td>30.6</td>\n",
       "      <td>855.0</td>\n",
       "      <td>84.0</td>\n",
       "    </tr>\n",
       "    <tr>\n",
       "      <th>515</th>\n",
       "      <td>MAHARASHTRA</td>\n",
       "      <td>WARDHA</td>\n",
       "      <td>1027.0</td>\n",
       "      <td>20.4</td>\n",
       "      <td>37.5</td>\n",
       "      <td>880.3</td>\n",
       "      <td>88.8</td>\n",
       "    </tr>\n",
       "    <tr>\n",
       "      <th>516</th>\n",
       "      <td>MAHARASHTRA</td>\n",
       "      <td>GADCHIROLI</td>\n",
       "      <td>1449.8</td>\n",
       "      <td>17.2</td>\n",
       "      <td>43.2</td>\n",
       "      <td>1303.0</td>\n",
       "      <td>86.4</td>\n",
       "    </tr>\n",
       "    <tr>\n",
       "      <th>517</th>\n",
       "      <td>MAHARASHTRA</td>\n",
       "      <td>WASHIM</td>\n",
       "      <td>940.9</td>\n",
       "      <td>14.7</td>\n",
       "      <td>20.7</td>\n",
       "      <td>825.6</td>\n",
       "      <td>79.9</td>\n",
       "    </tr>\n",
       "    <tr>\n",
       "      <th>518</th>\n",
       "      <td>MAHARASHTRA</td>\n",
       "      <td>GONDIA</td>\n",
       "      <td>1370.7</td>\n",
       "      <td>26.4</td>\n",
       "      <td>33.8</td>\n",
       "      <td>1228.8</td>\n",
       "      <td>81.7</td>\n",
       "    </tr>\n",
       "  </tbody>\n",
       "</table>\n",
       "</div>"
      ],
      "text/plain": [
       "        STATE/UT     DISTRICT  ANNUAL  JAN+FEB   MAM    JJAS    OND\n",
       "482  MAHARASHTRA  MUMBAI CITY  2257.5      2.0  19.4  2142.4   93.7\n",
       "483  MAHARASHTRA       RAIGAD  3278.9      0.4  22.2  3117.7  138.6\n",
       "484  MAHARASHTRA    RATNAGIRI  3470.6      0.1  35.3  3261.5  173.7\n",
       "485  MAHARASHTRA        THANE  2542.1      0.5  14.9  2428.3   98.4\n",
       "486  MAHARASHTRA   SINDHUDURG  3269.2      0.4  63.6  3021.8  183.4\n",
       "487  MAHARASHTRA   MUMBAI SUB  2257.5      2.0  19.4  2142.4   93.7\n",
       "490  MAHARASHTRA   AHMEDNAGAR   573.2      1.9  29.9   437.6  103.8\n",
       "491  MAHARASHTRA        DHULE   607.2      3.5  15.1   523.5   65.1\n",
       "492  MAHARASHTRA      JALGAON   730.9      5.7  13.2   641.8   70.2\n",
       "493  MAHARASHTRA     KOLHAPUR  1992.8      1.8  90.7  1737.6  162.7\n",
       "494  MAHARASHTRA       NASHIK  1029.6      1.7  20.8   912.2   94.9\n",
       "495  MAHARASHTRA         PUNE  1015.7      0.7  36.6   861.0  117.4\n",
       "496  MAHARASHTRA       SANGLI   730.6      2.5  80.9   508.1  139.1\n",
       "497  MAHARASHTRA       SATARA   912.5      1.4  53.5   723.8  133.8\n",
       "498  MAHARASHTRA      SOLAPUR   646.5      4.2  42.4   474.2  125.7\n",
       "499  MAHARASHTRA    NANDURBAR   890.7      1.0  11.1   828.4   50.2\n",
       "500  MAHARASHTRA   AURANGABAD   716.2      4.1  23.0   594.2   94.9\n",
       "501  MAHARASHTRA         BEED   708.4      4.5  30.5   569.4  104.0\n",
       "502  MAHARASHTRA       NANDED   961.1      9.4  33.1   816.4  102.2\n",
       "503  MAHARASHTRA    OSMANABAD   779.3      6.0  37.7   623.4  112.2\n",
       "504  MAHARASHTRA     PARBHANI   897.0      8.7  29.8   757.2  101.3\n",
       "505  MAHARASHTRA        LATUR   910.0      8.0  40.4   752.5  109.1\n",
       "506  MAHARASHTRA        JALNA   729.7      5.2  24.7   606.4   93.4\n",
       "507  MAHARASHTRA      HINGOLI   979.4      9.8  26.7   849.1   93.8\n",
       "508  MAHARASHTRA        AKOLA   815.4     13.9  22.9   702.3   76.3\n",
       "509  MAHARASHTRA     AMRAVATI   897.4     16.4  17.9   786.6   76.5\n",
       "510  MAHARASHTRA     BHANDARA  1292.7     29.1  39.3  1137.2   87.1\n",
       "511  MAHARASHTRA     BULDHANA   746.9      7.6  17.0   646.6   75.7\n",
       "512  MAHARASHTRA   CHANDRAPUR  1272.0     20.3  37.0  1131.8   82.9\n",
       "513  MAHARASHTRA       NAGPUR  1068.4     24.6  36.6   923.9   83.3\n",
       "514  MAHARASHTRA     YAVATMAL   982.8     13.2  30.6   855.0   84.0\n",
       "515  MAHARASHTRA       WARDHA  1027.0     20.4  37.5   880.3   88.8\n",
       "516  MAHARASHTRA   GADCHIROLI  1449.8     17.2  43.2  1303.0   86.4\n",
       "517  MAHARASHTRA       WASHIM   940.9     14.7  20.7   825.6   79.9\n",
       "518  MAHARASHTRA       GONDIA  1370.7     26.4  33.8  1228.8   81.7"
      ]
     },
     "execution_count": 117,
     "metadata": {},
     "output_type": "execute_result"
    }
   ],
   "source": [
    "rain_maha"
   ]
  },
  {
   "cell_type": "code",
   "execution_count": 118,
   "metadata": {},
   "outputs": [],
   "source": [
    "year= list()\n",
    "for x in range(1984,2019):\n",
    "    year.append(x)\n",
    "rain_maha[\"Year\"] = year"
   ]
  },
  {
   "cell_type": "code",
   "execution_count": 119,
   "metadata": {},
   "outputs": [],
   "source": [
    "rain_maha = rain_maha.drop(['DISTRICT','STATE/UT'],axis=1)"
   ]
  },
  {
   "cell_type": "code",
   "execution_count": 120,
   "metadata": {},
   "outputs": [],
   "source": [
    "rain_maha.to_csv(\"rainfall_dataset.csv\")"
   ]
  },
  {
   "cell_type": "code",
   "execution_count": 122,
   "metadata": {},
   "outputs": [],
   "source": [
    "data_jf = pd.DataFrame({'Year' : rain_maha[\"Year\"] , 'Rainfall': rain_maha[\"JAN+FEB\"] })"
   ]
  },
  {
   "cell_type": "code",
   "execution_count": 123,
   "metadata": {},
   "outputs": [],
   "source": [
    "data_mam = pd.DataFrame({'Year' : rain_maha[\"Year\"] , 'Rainfall': rain_maha[\"MAM\"] })"
   ]
  },
  {
   "cell_type": "code",
   "execution_count": 124,
   "metadata": {},
   "outputs": [],
   "source": [
    "data_jjas = pd.DataFrame({'Year' : rain_maha[\"Year\"] , 'Rainfall': rain_maha[\"JJAS\"] })"
   ]
  },
  {
   "cell_type": "code",
   "execution_count": 125,
   "metadata": {},
   "outputs": [],
   "source": [
    "data_ons = pd.DataFrame({'Year' : rain_maha[\"Year\"] , 'Rainfall': rain_maha[\"OND\"] })"
   ]
  },
  {
   "cell_type": "code",
   "execution_count": 126,
   "metadata": {},
   "outputs": [],
   "source": [
    "data_jf.to_csv(\"rain_jf.csv\")"
   ]
  },
  {
   "cell_type": "code",
   "execution_count": 127,
   "metadata": {},
   "outputs": [],
   "source": [
    "data_mam.to_csv(\"rain_mam.csv\")"
   ]
  },
  {
   "cell_type": "code",
   "execution_count": 128,
   "metadata": {},
   "outputs": [],
   "source": [
    "data_jjas.to_csv(\"rain_jjas.csv\")"
   ]
  },
  {
   "cell_type": "code",
   "execution_count": 130,
   "metadata": {},
   "outputs": [],
   "source": [
    "data_ons.to_csv('rain_ons.csv')"
   ]
  },
  {
   "cell_type": "code",
   "execution_count": null,
   "metadata": {},
   "outputs": [],
   "source": [
    "x"
   ]
  }
 ],
 "metadata": {
  "kernelspec": {
   "display_name": "dmce",
   "language": "python",
   "name": "dmce"
  },
  "language_info": {
   "codemirror_mode": {
    "name": "ipython",
    "version": 3
   },
   "file_extension": ".py",
   "mimetype": "text/x-python",
   "name": "python",
   "nbconvert_exporter": "python",
   "pygments_lexer": "ipython3",
   "version": "3.7.6"
  }
 },
 "nbformat": 4,
 "nbformat_minor": 2
}
